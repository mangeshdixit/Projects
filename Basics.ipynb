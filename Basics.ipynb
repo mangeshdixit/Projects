{
 "cells": [
  {
   "cell_type": "markdown",
   "metadata": {},
   "source": [
    "The aim of the project is to perform analysis of various apps available through Apple store and Google play. <b>The scope is to analysze data points for all free and english apps only."
   ]
  },
  {
   "cell_type": "code",
   "execution_count": 1,
   "metadata": {
    "collapsed": true
   },
   "outputs": [],
   "source": [
    "def explore_data(dataset, start, end, rows_and_columns=True):\n",
    "    dataset_slice = dataset[start:end]    \n",
    "    for row in dataset_slice:\n",
    "        print(row)\n",
    "        print('\\n') # adds a new (empty) line after each row\n",
    "\n",
    "    if rows_and_columns:\n",
    "        print('Number of rows:', len(dataset))\n",
    "        print('Number of columns:', len(dataset[0]))"
   ]
  },
  {
   "cell_type": "code",
   "execution_count": 2,
   "metadata": {
    "collapsed": false
   },
   "outputs": [
    {
     "name": "stdout",
     "output_type": "stream",
     "text": [
      "['id', 'track_name', 'size_bytes', 'currency', 'price', 'rating_count_tot', 'rating_count_ver', 'user_rating', 'user_rating_ver', 'ver', 'cont_rating', 'prime_genre', 'sup_devices.num', 'ipadSc_urls.num', 'lang.num', 'vpp_lic']\n",
      "\n",
      "\n",
      "['284882215', 'Facebook', '389879808', 'USD', '0.0', '2974676', '212', '3.5', '3.5', '95.0', '4+', 'Social Networking', '37', '1', '29', '1']\n",
      "\n",
      "\n",
      "['389801252', 'Instagram', '113954816', 'USD', '0.0', '2161558', '1289', '4.5', '4.0', '10.23', '12+', 'Photo & Video', '37', '0', '29', '1']\n",
      "\n",
      "\n",
      "['529479190', 'Clash of Clans', '116476928', 'USD', '0.0', '2130805', '579', '4.5', '4.5', '9.24.12', '9+', 'Games', '38', '5', '18', '1']\n",
      "\n",
      "\n",
      "['420009108', 'Temple Run', '65921024', 'USD', '0.0', '1724546', '3842', '4.5', '4.0', '1.6.2', '9+', 'Games', '40', '5', '1', '1']\n",
      "\n",
      "\n",
      "Number of rows: 7198\n",
      "Number of columns: 16\n"
     ]
    }
   ],
   "source": [
    "open_Apple_file = open('AppleStore.csv')\n",
    "open_google_file = open('googleplaystore.csv')\n",
    "from csv import reader\n",
    "read_apple = reader(open_Apple_file)\n",
    "read_google = reader(open_google_file)\n",
    "apple_list = list(read_apple)\n",
    "google_list = list(read_google)\n",
    "explore_data(apple_list,0,5)"
   ]
  },
  {
   "cell_type": "markdown",
   "metadata": {},
   "source": [
    "In the code below we are analyzing the whether all the records in the csv file match with the number of columns mentioned in the header (first row). We are then identifying the rows where the row length does not match with the header length."
   ]
  },
  {
   "cell_type": "code",
   "execution_count": 3,
   "metadata": {
    "collapsed": false
   },
   "outputs": [
    {
     "name": "stdout",
     "output_type": "stream",
     "text": [
      "google header length 13\n",
      "google 10473\n",
      "12\n",
      "apple header length 16\n"
     ]
    }
   ],
   "source": [
    "header_length = len(google_list[0])\n",
    "print('google header length',header_length)\n",
    "for row in google_list[1:]:\n",
    "    row_length = len(row)\n",
    "    if row_length != header_length:\n",
    "        print('google',google_list.index(row))\n",
    "        print(row_length)\n",
    "\n",
    "header_length_apple = len(apple_list[0])\n",
    "print('apple header length',header_length_apple)\n",
    "for row in apple_list[1:]:\n",
    "    row_length = len(row)\n",
    "    if row_length != header_length_apple:\n",
    "        print('apple',apple_list.index(row))\n",
    "        print(row_length)"
   ]
  },
  {
   "cell_type": "markdown",
   "metadata": {},
   "source": [
    "We are then deleting the record which is not having the same number of columns as present in the header row."
   ]
  },
  {
   "cell_type": "code",
   "execution_count": 4,
   "metadata": {
    "collapsed": true
   },
   "outputs": [],
   "source": [
    "del google_list[10473]"
   ]
  },
  {
   "cell_type": "markdown",
   "metadata": {},
   "source": [
    "There is a possibility of having duplicate records in both of the csv files. We will now identify the duplicate records present in the google csv file"
   ]
  },
  {
   "cell_type": "code",
   "execution_count": 5,
   "metadata": {
    "collapsed": false
   },
   "outputs": [
    {
     "name": "stdout",
     "output_type": "stream",
     "text": [
      "Number of duplicate apps google  1181\n",
      "Number of duplicate apps apple  2\n"
     ]
    }
   ],
   "source": [
    "unique_apps = []\n",
    "duplicate_apps = []\n",
    "for row in google_list[1:]:\n",
    "    app_name = row[0]\n",
    "    if app_name in unique_apps:\n",
    "        duplicate_apps.append(app_name)\n",
    "    else:\n",
    "        unique_apps.append(app_name)\n",
    "#print(duplicate_apps[0:15])\n",
    "print('Number of duplicate apps google ', len(duplicate_apps))\n",
    "\n",
    "unique_apps_apple = []\n",
    "duplicate_apps_apple = []\n",
    "for row in apple_list[1:]:\n",
    "    app_name = row[1]\n",
    "    if app_name in unique_apps_apple:\n",
    "        duplicate_apps_apple.append(app_name)\n",
    "    else:\n",
    "        unique_apps_apple.append(app_name)\n",
    "#print(duplicate_apps_apple[0:15])\n",
    "print('Number of duplicate apps apple ', len(duplicate_apps_apple))\n"
   ]
  },
  {
   "cell_type": "markdown",
   "metadata": {
    "collapsed": true
   },
   "source": [
    "Now that we have identified that there are duplicate records, we need to define a criteria to remove duplicate records. Looking closely at the header columns, we find that there is a column at ideex 5 called 'rating_count_tot'. Out of the duplicate records for a given app, we will retain the record having highest number for 'rating_count_tot'. Higher the number of reviews, the more recent the data should be.\n",
    "\n",
    "Given below is an example for app 'Box'"
   ]
  },
  {
   "cell_type": "code",
   "execution_count": 6,
   "metadata": {
    "collapsed": false
   },
   "outputs": [
    {
     "name": "stdout",
     "output_type": "stream",
     "text": [
      "['Box', 'BUSINESS', '4.2', '159872', 'Varies with device', '10,000,000+', 'Free', '0', 'Everyone', 'Business', 'July 31, 2018', 'Varies with device', 'Varies with device']\n",
      "['Box', 'BUSINESS', '4.2', '159872', 'Varies with device', '10,000,000+', 'Free', '0', 'Everyone', 'Business', 'July 31, 2018', 'Varies with device', 'Varies with device']\n",
      "['Box', 'BUSINESS', '4.2', '159872', 'Varies with device', '10,000,000+', 'Free', '0', 'Everyone', 'Business', 'July 31, 2018', 'Varies with device', 'Varies with device']\n"
     ]
    }
   ],
   "source": [
    "for row in google_list[1:]:\n",
    "    app_name = row[0]\n",
    "    if app_name == 'Box':\n",
    "        print(row)"
   ]
  },
  {
   "cell_type": "markdown",
   "metadata": {},
   "source": [
    "In the above example, we find that the number of reviews are same for all the three records identified for app 'Box'. In such case we will retain only one record for the app and delete the remaining two records."
   ]
  },
  {
   "cell_type": "markdown",
   "metadata": {},
   "source": [
    "Now we will create a dictionary where easch key is a unique app name and the corresponding dictionary value is the highest number of reviews for that app."
   ]
  },
  {
   "cell_type": "code",
   "execution_count": 7,
   "metadata": {
    "collapsed": false
   },
   "outputs": [
    {
     "name": "stdout",
     "output_type": "stream",
     "text": [
      "Length of the google dictionary is 9659\n",
      "Length of the apple dictionary is 7195\n"
     ]
    }
   ],
   "source": [
    "reviews_max = {}\n",
    "for row in google_list[1:]:\n",
    "    name = row[0]\n",
    "    n_reviews = row[3]\n",
    "    if name in reviews_max and reviews_max[name] < n_reviews:\n",
    "        reviews_max[name] = n_reviews\n",
    "    if name not in reviews_max:\n",
    "         reviews_max[name] = n_reviews\n",
    "print('Length of the google dictionary is',len(reviews_max))\n",
    "\n",
    "reviews_max_apple = {}\n",
    "for row in apple_list[1:]:\n",
    "    apple_name = row[1]\n",
    "    n_reviews_apple = row[5]\n",
    "    if apple_name in reviews_max_apple and reviews_max_apple[apple_name] < n_reviews_apple:\n",
    "        reviews_max_apple[apple_name] = n_reviews_apple\n",
    "    if apple_name not in reviews_max_apple:\n",
    "         reviews_max_apple[apple_name] = n_reviews_apple\n",
    "print('Length of the apple dictionary is',len(reviews_max_apple))\n",
    "#print(reviews_max_apple)"
   ]
  },
  {
   "cell_type": "markdown",
   "metadata": {},
   "source": [
    "Now we will use this dictionay to remove the duplicate records from google list.\n",
    "We will create two empty lists.\n",
    "1. 'android_clean' which will store our cleaned data set\n",
    "2. 'already_added' which will just store app names - This is needed to avoid duplicate addition of app details to 'android_clean' list since there are some apps such as 'Box' which have identical duplicate records - including the number of reviews."
   ]
  },
  {
   "cell_type": "code",
   "execution_count": 8,
   "metadata": {
    "collapsed": false
   },
   "outputs": [
    {
     "name": "stdout",
     "output_type": "stream",
     "text": [
      "Number of records in android_clean is 9659\n",
      "Number of records in already_added is 9659\n",
      "Number of records in apple_clean is 7195\n",
      "Number of records in already_added_apple is 7195\n"
     ]
    }
   ],
   "source": [
    "android_clean = []\n",
    "already_added = []\n",
    "for row in google_list[1:]:\n",
    "    name = row[0]\n",
    "    n_reviews = float(row[3])\n",
    "    #print(n_reviews == reviews_max[name])\n",
    "    if n_reviews == float(reviews_max[name]) and name not in already_added:\n",
    "        #print('I am here')\n",
    "        android_clean.append(row)\n",
    "        already_added.append(name)\n",
    "print('Number of records in android_clean is', len(android_clean))\n",
    "print('Number of records in already_added is', len(already_added))\n",
    "\n",
    "apple_clean = []\n",
    "already_added_apple = []\n",
    "for row in apple_list[1:]:\n",
    "    name_apple = row[1]\n",
    "    n_reviews_apple = float(row[5])\n",
    "    #print(len(apple_list[1:]))\n",
    "    #print(n_reviews == reviews_max[name])\n",
    "    if n_reviews_apple == float(reviews_max_apple[name_apple]) and name_apple not in already_added_apple:\n",
    "        #print('I am here')\n",
    "        apple_clean.append(row)\n",
    "        already_added_apple.append(name_apple)\n",
    "print('Number of records in apple_clean is', len(apple_clean))\n",
    "print('Number of records in already_added_apple is', len(already_added_apple))"
   ]
  },
  {
   "cell_type": "markdown",
   "metadata": {},
   "source": [
    "If you observe our datasets closely, you will find that there are records for non-english apps as well. This project focuses on analysis of english apps only. Hence we will now find a way to identify and delete the records for non-english apps.\n",
    "\n",
    "English characters have unique numbers associated with them in the range of 0 to 127 (according to ASCII). Hence we will now look at app names in our data sets and identiy all such records where app name has characters which are not in the range of 0 to 127\n",
    "\n",
    "Given below is a function which takes string as an inputs and returns 'False' if there is any character in the string that doesn't belong to the set of common English characters, otherwise it returns 'True'"
   ]
  },
  {
   "cell_type": "code",
   "execution_count": 9,
   "metadata": {
    "collapsed": false
   },
   "outputs": [
    {
     "name": "stdout",
     "output_type": "stream",
     "text": [
      "False\n"
     ]
    }
   ],
   "source": [
    "def isEnglish(a_string):\n",
    "    for character in a_string:\n",
    "        if 0 <= ord(character) <= 127:\n",
    "            return True\n",
    "        else:\n",
    "            return False\n",
    "print(isEnglish('爱'))\n",
    "    "
   ]
  },
  {
   "cell_type": "markdown",
   "metadata": {},
   "source": [
    "The above function will not be able to handle emojis and special characters which fall outside the ASCII range. Hence if we use this function as it is, we will incorrectly lable apps as \"Non-English\" if the app name contains emojis or special characters. \n",
    "\n",
    "To minimize the impact of data loss, we'll only remove an app if its name has more than three characters with corresponding numbers falling outside the ASCII range. This means all English apps with up to three emoji or other special characters will still be labeled as English. Our filter function is still not perfect, but it should be fairly effective."
   ]
  },
  {
   "cell_type": "code",
   "execution_count": 14,
   "metadata": {
    "collapsed": false
   },
   "outputs": [],
   "source": [
    "def isEnglishSpecial(a_string):\n",
    "    special_character_count = 0\n",
    "    for character in a_string:\n",
    "        if not(0 <= ord(character) <= 127):\n",
    "            special_character_count += 1\n",
    "    \n",
    "    if special_character_count > 3:\n",
    "        return False\n",
    "    else:\n",
    "        return True\n",
    "    \n",
    "#print(isEnglishSpecial('爱奇艺PPS -《欢乐颂2》电视剧热播'))"
   ]
  },
  {
   "cell_type": "markdown",
   "metadata": {
    "collapsed": true
   },
   "source": [
    "Now we will use this new function to filter out non-English apps from both data sets - 'android_clean' and 'already_added'"
   ]
  },
  {
   "cell_type": "code",
   "execution_count": 11,
   "metadata": {
    "collapsed": false
   },
   "outputs": [
    {
     "name": "stdout",
     "output_type": "stream",
     "text": [
      "Number of records in android_final are 9614\n",
      "Number of records in ios_final are 6181\n"
     ]
    }
   ],
   "source": [
    "android_final = []\n",
    "already_added_final = []\n",
    "for row in android_clean:\n",
    "    if isEnglishSpecial(row[0]):\n",
    "        android_final.append(row)\n",
    "\n",
    "for row in already_added:\n",
    "    if isEnglishSpecial(row):\n",
    "        already_added_final.append(row)\n",
    "\n",
    "print('Number of records in android_final are',len(android_final))\n",
    "#print('Number of records in already_added_final are',len(already_added_final))\n",
    "\n",
    "ios_final = []\n",
    "for row in apple_clean:\n",
    "    if isEnglishSpecial(row[1]):\n",
    "        ios_final.append(row)\n",
    "print('Number of records in ios_final are',len(ios_final))"
   ]
  },
  {
   "cell_type": "markdown",
   "metadata": {},
   "source": [
    "As we mentioned in the introduction, we will analyze only those apps that are free to download and install. Our data sets contain both free and non-free apps; we'll need to isolate only the free apps for our analysis.\n",
    "\n",
    "We will now filter out the non-free apps from the datasets - 'android_final'"
   ]
  },
  {
   "cell_type": "code",
   "execution_count": 13,
   "metadata": {
    "collapsed": false
   },
   "outputs": [
    {
     "name": "stdout",
     "output_type": "stream",
     "text": [
      "Number of records in android_free_final are 8862\n",
      "Number of records in ios_free_final are 3220\n"
     ]
    }
   ],
   "source": [
    "android_free_final = []\n",
    "for row in android_final:\n",
    "#print(row)\n",
    "    price = row[7]\n",
    "    if price == '0':\n",
    "        android_free_final.append(row)\n",
    "    \n",
    "\n",
    "print('Number of records in android_free_final are',len(android_free_final))\n",
    "\n",
    "ios_free_final = []\n",
    "for row in ios_final:\n",
    "#print(row)\n",
    "    price = row[4]\n",
    "    if price == '0.0':\n",
    "        ios_free_final.append(row)\n",
    "    \n",
    "\n",
    "print('Number of records in ios_free_final are',len(ios_free_final))\n"
   ]
  },
  {
   "cell_type": "code",
   "execution_count": null,
   "metadata": {
    "collapsed": true
   },
   "outputs": [],
   "source": []
  }
 ],
 "metadata": {
  "kernelspec": {
   "display_name": "Python 3",
   "language": "python",
   "name": "python3"
  },
  "language_info": {
   "codemirror_mode": {
    "name": "ipython",
    "version": 3
   },
   "file_extension": ".py",
   "mimetype": "text/x-python",
   "name": "python",
   "nbconvert_exporter": "python",
   "pygments_lexer": "ipython3",
   "version": "3.4.3"
  }
 },
 "nbformat": 4,
 "nbformat_minor": 2
}
